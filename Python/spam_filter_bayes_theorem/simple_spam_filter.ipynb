{
 "cells": [
  {
   "cell_type": "markdown",
   "metadata": {
    "tags": []
   },
   "source": [
    "# SIMPLE SPAM FILTER"
   ]
  },
  {
   "cell_type": "markdown",
   "metadata": {},
   "source": [
    "This is my first raw machine learning coding project. Although it is nothing compare to others' spam filter projects, I am still proud of it. Just do not consider it to be a good reference on your study :>."
   ]
  },
  {
   "cell_type": "markdown",
   "metadata": {},
   "source": [
    "First, I want to talk about the mathematics here before we start coding. This spam filter is based on the Bayes theorem, as we have learned that:"
   ]
  },
  {
   "cell_type": "markdown",
   "metadata": {},
   "source": [
    "$$P(spam|word) = \\frac{P(word|spam) \\times P(spam)}{P(word)}$$"
   ]
  },
  {
   "cell_type": "markdown",
   "metadata": {},
   "source": [
    "(Because this is simple, the only feature I take into account for predicting spam is the word, including words in title and email address.) We have the formula of predicting an email spam or ham as below:"
   ]
  },
  {
   "cell_type": "markdown",
   "metadata": {},
   "source": [
    "$$P(spam|w_1, w_2,..., w_n) = \\frac{P(w_1, w_2,..., w_n|spam) \\times P(w_1, w_2,..., w_n)}{P(spam)}$$"
   ]
  },
  {
   "cell_type": "markdown",
   "metadata": {},
   "source": [
    "($(w_1, w_2,..., w_n)$ belong to the $W$ set). Based on the Chain Rule, we have:"
   ]
  },
  {
   "cell_type": "markdown",
   "metadata": {},
   "source": [
    "$$P(w_1, w_2,..., w_n) = P(w_1|w_2,..., w_n) \\times P(w_2|w_3,..., w_n) \\times \\dots \\times P(w_n)$$"
   ]
  },
  {
   "cell_type": "markdown",
   "metadata": {},
   "source": [
    "To make it simple, let's suppose that every word in the W set is mutually independent on the category \"spam\" or \"ham\" only (this is the \"Naive Bayes\" assumption), then we have:"
   ]
  },
  {
   "cell_type": "markdown",
   "metadata": {},
   "source": [
    "$$P(w_1, w_2,..., w_n|spam) = \\prod_{i = 1}^{n}(P(w_i|spam)$$"
   ]
  },
  {
   "cell_type": "markdown",
   "metadata": {},
   "source": [
    "Therefore:"
   ]
  },
  {
   "cell_type": "markdown",
   "metadata": {},
   "source": [
    "$$P(spam|w_1, w_2,..., w_n) = \\frac{P(w_1, w_2,..., w_n|spam) \\times P(spam)}{P(w_1, w_2,..., w_n)}$$"
   ]
  },
  {
   "cell_type": "markdown",
   "metadata": {},
   "source": [
    "$$P(spam|w_1, w_2,..., w_n) = \\prod_{i = 1}^{n} \\frac{(P(w_i|spam))*P(spam)}{P(w_1, w_2,..., w_n)}$$"
   ]
  },
  {
   "cell_type": "markdown",
   "metadata": {},
   "source": [
    "In this step, I am actually confused in figuring out how to calculate the $P(w_1, w_2,..., w_n)$, so I ask for advice from my brilliant friend and he propose another solution. I will get the ratio of $P(ham|w_1, w_2,..., w_n)$ over $P(spam|w_1, w_2,..., w_n)$:"
   ]
  },
  {
   "cell_type": "markdown",
   "metadata": {},
   "source": [
    "$$R = \\frac{P(ham|w_1, w_2,..., w_n)}{P(spam|w_1, w_2,..., w_n)}$$"
   ]
  },
  {
   "cell_type": "markdown",
   "metadata": {},
   "source": [
    "###### R = Pi<i = 1 -> n>(P(w_i|spam))*P(spam)/Pi<i = 1 -> n>(P(w_i|ham))*P(ham)\n",
    "$$R = \\frac{\\prod_{i = 1}^{n} P(w_i|spam) \\times P(spam)}{\\prod_{i = 1}^{n} (P(w_i|ham)) \\times P(ham)}$$"
   ]
  },
  {
   "cell_type": "markdown",
   "metadata": {},
   "source": [
    "Now it is easy to calculate $R$, isn't it? Let's go back to the $P(spam|w_1, w_2,..., w_n)$:"
   ]
  },
  {
   "cell_type": "markdown",
   "metadata": {},
   "source": [
    "$$P(spam|w_1, w_2,..., w_n) = \\frac{P(spam|w_1, w_2,... w_n)}{P(spam|w_1, w_2,..., w_n) \\times P(ham|w_1, w_2,..., w_n)}$$"
   ]
  },
  {
   "cell_type": "markdown",
   "metadata": {},
   "source": [
    "$$P(spam|w_1, w_2,..., w_n) = \\frac{1}{1 + \\frac{P(ham|w_1, w_2,..., w_n)}{P(spam|w_1, w_2,..., w_n)}}$$"
   ]
  },
  {
   "cell_type": "markdown",
   "metadata": {},
   "source": [
    "$$P(spam|w_1, w_2,..., w_n) = \\frac{1}{1 + R}$$"
   ]
  },
  {
   "cell_type": "markdown",
   "metadata": {},
   "source": [
    "Now we can get started in coding:"
   ]
  },
  {
   "cell_type": "code",
   "execution_count": 12,
   "metadata": {},
   "outputs": [
    {
     "name": "stdout",
     "output_type": "stream",
     "text": [
      "setup and initialization are completed!\n"
     ]
    }
   ],
   "source": [
    "# import necessary modules\n",
    "import pandas as pd\n",
    "import re, math\n",
    "# get the dataset\n",
    "fraud_email = pd.read_csv('fraud_email.csv')\n",
    "# get the spam_list\n",
    "spam_list = fraud_email[(fraud_email['Class'] == 1)]['Text'].tolist()\n",
    "# get the ham_list\n",
    "ham_list = fraud_email[(fraud_email['Class'] == 0)]['Text'].tolist()\n",
    "# get the numbers of instances\n",
    "dataset_row_count = len(fraud_email.axes[0])\n",
    "# get the probabilities of ham/spam mail in this dataset\n",
    "prob_ham_in_dataset = len(ham_list)/dataset_row_count\n",
    "prob_spam_in_dataset = len(spam_list)/dataset_row_count\n",
    "print('setup and initialization are completed!')"
   ]
  },
  {
   "cell_type": "markdown",
   "metadata": {},
   "source": [
    "Write down how to extract words"
   ]
  },
  {
   "cell_type": "code",
   "execution_count": 13,
   "metadata": {},
   "outputs": [],
   "source": [
    "def extract_words(text):\n",
    "    split_list = re.split('; |;|, |,|: |:|\\t|\\*|\\n|! | |\\.|\\. ', str(text))\n",
    "    word_list = [word.lower() for word in split_list]\n",
    "    word_list = list(dict.fromkeys(word_list))\n",
    "    if str('') in word_list:\n",
    "        word_list.remove('')\n",
    "    return word_list"
   ]
  },
  {
   "cell_type": "markdown",
   "metadata": {},
   "source": [
    "How to calculate the probability of occurence od a word in a given text list:"
   ]
  },
  {
   "cell_type": "code",
   "execution_count": 14,
   "metadata": {},
   "outputs": [],
   "source": [
    "def prob_in_set(word, list):\n",
    "    count = 0\n",
    "    for mail in list:\n",
    "        if word in str(mail).lower():\n",
    "            count += 1\n",
    "    return count/len(list)"
   ]
  },
  {
   "cell_type": "markdown",
   "metadata": {},
   "source": [
    "This is how to calculate the \"Pi<i = 1 -> n>(P(w_i|spam))\""
   ]
  },
  {
   "cell_type": "code",
   "execution_count": 15,
   "metadata": {},
   "outputs": [],
   "source": [
    "def product_of_num_list(num_list):\n",
    "    result = 1\n",
    "    for num in num_list:\n",
    "        result *= float(num)\n",
    "    return result"
   ]
  },
  {
   "cell_type": "markdown",
   "metadata": {},
   "source": [
    "Now we can start calculating an instance:"
   ]
  },
  {
   "cell_type": "code",
   "execution_count": 16,
   "metadata": {},
   "outputs": [],
   "source": [
    "def main(text):\n",
    "    word_list = extract_words(text)\n",
    "    prob_in_spam_list = list()\n",
    "    prob_in_ham_list = list()\n",
    "    for word in word_list:\n",
    "        prob_in_spam_list.append(prob_in_set(word, spam_list))\n",
    "        prob_in_ham_list.append(prob_in_set(word, ham_list))\n",
    "    ratio = (product_of_num_list(prob_in_ham_list) * prob_ham_in_dataset) / \\\n",
    "        (product_of_num_list(prob_in_spam_list) * prob_spam_in_dataset)\n",
    "    print('Ratio: ' + str(ratio))\n",
    "    prob = 1 / (1 + ratio)\n",
    "    print(\"You email has a chance of \" + str(prob*100) + \"% of being a spam.\")"
   ]
  },
  {
   "cell_type": "markdown",
   "metadata": {},
   "source": [
    "Let's try it:"
   ]
  },
  {
   "cell_type": "code",
   "execution_count": 17,
   "metadata": {},
   "outputs": [
    {
     "ename": "ZeroDivisionError",
     "evalue": "float division by zero",
     "output_type": "error",
     "traceback": [
      "\u001b[1;31m---------------------------------------------------------------------------\u001b[0m",
      "\u001b[1;31mZeroDivisionError\u001b[0m                         Traceback (most recent call last)",
      "\u001b[1;32mf:\\stuffs\\Python\\spam_filter_bayes_theorem\\simple_spam_filter.ipynb Cell 32'\u001b[0m in \u001b[0;36m<cell line: 11>\u001b[1;34m()\u001b[0m\n\u001b[0;32m      <a href='vscode-notebook-cell:/f%3A/stuffs/Python/spam_filter_bayes_theorem/simple_spam_filter.ipynb#ch0000031?line=0'>1</a>\u001b[0m text \u001b[39m=\u001b[39m \u001b[39m\"\u001b[39m\u001b[39mI\u001b[39m\u001b[39m'\u001b[39m\u001b[39mm just a little bit caught in the middle\u001b[39m\u001b[39m\\\u001b[39;00m\n\u001b[0;32m      <a href='vscode-notebook-cell:/f%3A/stuffs/Python/spam_filter_bayes_theorem/simple_spam_filter.ipynb#ch0000031?line=1'>2</a>\u001b[0m \u001b[39mLife is a maze and love is a riddle\u001b[39m\u001b[39m\\\u001b[39;00m\n\u001b[0;32m      <a href='vscode-notebook-cell:/f%3A/stuffs/Python/spam_filter_bayes_theorem/simple_spam_filter.ipynb#ch0000031?line=2'>3</a>\u001b[0m \u001b[39mI don\u001b[39m\u001b[39m'\u001b[39m\u001b[39mt know where to go; can\u001b[39m\u001b[39m'\u001b[39m\u001b[39mt do it alone; I\u001b[39m\u001b[39m'\u001b[39m\u001b[39mve tried\u001b[39m\u001b[39m\\\u001b[39;00m\n\u001b[1;32m   (...)\u001b[0m\n\u001b[0;32m      <a href='vscode-notebook-cell:/f%3A/stuffs/Python/spam_filter_bayes_theorem/simple_spam_filter.ipynb#ch0000031?line=8'>9</a>\u001b[0m \u001b[39mYeah, it\u001b[39m\u001b[39m'\u001b[39m\u001b[39ms a lot\u001b[39m\u001b[39m\\\u001b[39;00m\n\u001b[0;32m     <a href='vscode-notebook-cell:/f%3A/stuffs/Python/spam_filter_bayes_theorem/simple_spam_filter.ipynb#ch0000031?line=9'>10</a>\u001b[0m \u001b[39mTo be something I\u001b[39m\u001b[39m'\u001b[39m\u001b[39mm not\u001b[39m\u001b[39m\"\u001b[39m\n\u001b[1;32m---> <a href='vscode-notebook-cell:/f%3A/stuffs/Python/spam_filter_bayes_theorem/simple_spam_filter.ipynb#ch0000031?line=10'>11</a>\u001b[0m main(text)\n",
      "\u001b[1;32mf:\\stuffs\\Python\\spam_filter_bayes_theorem\\simple_spam_filter.ipynb Cell 30'\u001b[0m in \u001b[0;36mmain\u001b[1;34m(text)\u001b[0m\n\u001b[0;32m      <a href='vscode-notebook-cell:/f%3A/stuffs/Python/spam_filter_bayes_theorem/simple_spam_filter.ipynb#ch0000029?line=5'>6</a>\u001b[0m     prob_in_spam_list\u001b[39m.\u001b[39mappend(prob_in_set(word, spam_list))\n\u001b[0;32m      <a href='vscode-notebook-cell:/f%3A/stuffs/Python/spam_filter_bayes_theorem/simple_spam_filter.ipynb#ch0000029?line=6'>7</a>\u001b[0m     prob_in_ham_list\u001b[39m.\u001b[39mappend(prob_in_set(word, ham_list))\n\u001b[1;32m----> <a href='vscode-notebook-cell:/f%3A/stuffs/Python/spam_filter_bayes_theorem/simple_spam_filter.ipynb#ch0000029?line=7'>8</a>\u001b[0m ratio \u001b[39m=\u001b[39m (product_of_num_list(prob_in_ham_list) \u001b[39m*\u001b[39;49m prob_ham_in_dataset) \u001b[39m/\u001b[39;49m \\\n\u001b[0;32m      <a href='vscode-notebook-cell:/f%3A/stuffs/Python/spam_filter_bayes_theorem/simple_spam_filter.ipynb#ch0000029?line=8'>9</a>\u001b[0m     (product_of_num_list(prob_in_spam_list) \u001b[39m*\u001b[39;49m prob_spam_in_dataset)\n\u001b[0;32m     <a href='vscode-notebook-cell:/f%3A/stuffs/Python/spam_filter_bayes_theorem/simple_spam_filter.ipynb#ch0000029?line=9'>10</a>\u001b[0m \u001b[39mprint\u001b[39m(\u001b[39m'\u001b[39m\u001b[39mRatio: \u001b[39m\u001b[39m'\u001b[39m \u001b[39m+\u001b[39m \u001b[39mstr\u001b[39m(ratio))\n\u001b[0;32m     <a href='vscode-notebook-cell:/f%3A/stuffs/Python/spam_filter_bayes_theorem/simple_spam_filter.ipynb#ch0000029?line=10'>11</a>\u001b[0m prob \u001b[39m=\u001b[39m \u001b[39m1\u001b[39m \u001b[39m/\u001b[39m (\u001b[39m1\u001b[39m \u001b[39m+\u001b[39m ratio)\n",
      "\u001b[1;31mZeroDivisionError\u001b[0m: float division by zero"
     ]
    }
   ],
   "source": [
    "text = \"I'm just a little bit caught in the middle\\\n",
    "Life is a maze and love is a riddle\\\n",
    "I don't know where to go; can't do it alone; I've tried\\\n",
    "And I don't know why\\\n",
    "Slow it down\\\n",
    "Make it stop\\\n",
    "Or else my heart is going to pop\\\n",
    "\\'Cause it\\'s too much\\\n",
    "Yeah, it's a lot\\\n",
    "To be something I'm not\"\n",
    "main(text)"
   ]
  },
  {
   "cell_type": "markdown",
   "metadata": {},
   "source": [
    "Can you see that there is the division-by-zero problem and the model is overfit that the predict result will always be around 99%? I have fixed this like this:"
   ]
  },
  {
   "cell_type": "code",
   "execution_count": null,
   "metadata": {},
   "outputs": [],
   "source": [
    "def product_of_num_list(num_list):\n",
    "    result = 1\n",
    "    for num in num_list:\n",
    "        result *= float(num + 10)\n",
    "    return result\n",
    "# 10 is the number added due to Laplace correction to avoid the 0.0 probability.\n",
    "# But why is it 10 instead of another number?\n",
    "# I do not really know, I just adjust the number due to the test result.\n",
    "# If it's too big, the return number will be infinity, but if it's too small,\n",
    "# the model is overfit :(.\n",
    "# Sorry!"
   ]
  },
  {
   "cell_type": "markdown",
   "metadata": {},
   "source": [
    "Now let's try again:"
   ]
  },
  {
   "cell_type": "code",
   "execution_count": null,
   "metadata": {},
   "outputs": [
    {
     "name": "stdout",
     "output_type": "stream",
     "text": [
      "Ratio: 0.6714713818373087\n",
      "You email has a chance of 59.827527462706755% of being a spam.\n"
     ]
    }
   ],
   "source": [
    "text = \"I'm just a little bit caught in the middle\\\n",
    "Life is a maze and love is a riddle\\\n",
    "I don't know where to go; can't do it alone; I've tried\\\n",
    "And I don't know why\\\n",
    "Slow it down\\\n",
    "Make it stop\\\n",
    "Or else my heart is going to pop\\\n",
    "\\'Cause it\\'s too much\\\n",
    "Yeah, it's a lot\\\n",
    "To be something I'm not\"\n",
    "main(text)"
   ]
  },
  {
   "cell_type": "markdown",
   "metadata": {},
   "source": [
    "But we have another problem to notice: there's a lot of words like \"a\", \"the\", \"is\", \"it\",...etc., and I think it's too trivial to take into account in this model, so I will remove it by this function:"
   ]
  },
  {
   "cell_type": "code",
   "execution_count": null,
   "metadata": {},
   "outputs": [],
   "source": [
    "def idf(word):\n",
    "    count = 0\n",
    "    for mail in fraud_email['Text'].tolist():\n",
    "        if word in str(mail).lower():\n",
    "            count += 1\n",
    "    return math.log(1 + (dataset_row_count/(count + 1)))"
   ]
  },
  {
   "cell_type": "markdown",
   "metadata": {},
   "source": [
    "The main() function will be:"
   ]
  },
  {
   "cell_type": "code",
   "execution_count": null,
   "metadata": {},
   "outputs": [],
   "source": [
    "def main(text):\n",
    "    word_list = extract_words(text)\n",
    "    prob_in_spam_list = list()\n",
    "    prob_in_ham_list = list()\n",
    "    for word in word_list:\n",
    "        if idf(word) > 1:\n",
    "            prob_in_spam_list.append(prob_in_set(word, spam_list))\n",
    "            prob_in_ham_list.append(prob_in_set(word, ham_list))\n",
    "    ratio = (product_of_num_list(prob_in_ham_list) * prob_ham_in_dataset) / \\\n",
    "        (product_of_num_list(prob_in_spam_list) * prob_spam_in_dataset)\n",
    "    print('Ratio: ' + str(ratio))\n",
    "    prob = 1 / (1 + ratio)\n",
    "    print(\"You email has a chance of \" + str(prob*100) + \"% of being a spam.\")\n",
    "    return (0 if (prob < 0.65) else 1)"
   ]
  },
  {
   "cell_type": "markdown",
   "metadata": {},
   "source": [
    "Now we have a complete simple spam filter. Because the speed of testing an entire dataset is too slow (:<) so will try a piece of instances here:"
   ]
  },
  {
   "cell_type": "code",
   "execution_count": null,
   "metadata": {},
   "outputs": [
    {
     "name": "stdout",
     "output_type": "stream",
     "text": [
      "Ratio: nan\n",
      "You email has a chance of nan% of being a spam.\n",
      "Ratio: 0.5417626251102475\n",
      "You email has a chance of 64.86082771195032% of being a spam.\n",
      "Ratio: 0.01333739730200361\n",
      "You email has a chance of 98.68381475533083% of being a spam.\n",
      "Ratio: 0.026624087640040428\n",
      "You email has a chance of 97.40663715564644% of being a spam.\n",
      "Ratio: 0.18698210028417106\n",
      "You email has a chance of 84.2472687465627% of being a spam.\n",
      "Ratio: 0.02265880584114123\n",
      "You email has a chance of 97.78432398843871% of being a spam.\n",
      "Ratio: 0.76348771554806\n",
      "You email has a chance of 56.7058103769789% of being a spam.\n",
      "Ratio: 1.3138832223547976\n",
      "You email has a chance of 43.21739275080261% of being a spam.\n",
      "Ratio: 0.7997538386148971\n",
      "You email has a chance of 55.5631541683282% of being a spam.\n",
      "Ratio: 1.2298480006601815\n",
      "You email has a chance of 44.84610608902195% of being a spam.\n",
      "Ratio: 0.40413926770230413\n",
      "You email has a chance of 71.218006860272% of being a spam.\n",
      "Ratio: 0.99681744675709\n",
      "You email has a chance of 50.0796906409266% of being a spam.\n",
      "Ratio: 1.2665345646240698\n",
      "You email has a chance of 44.1202183989575% of being a spam.\n",
      "Ratio: 1.0599127117443723\n",
      "You email has a chance of 48.54574634636734% of being a spam.\n",
      "Ratio: 0.633399230204453\n",
      "You email has a chance of 61.222019792113514% of being a spam.\n",
      "Ratio: 0.7475819062221596\n",
      "You email has a chance of 57.22192455984813% of being a spam.\n",
      "Ratio: nan\n",
      "You email has a chance of nan% of being a spam.\n",
      "Ratio: 0.8007222868208576\n",
      "You email has a chance of 55.53327169429784% of being a spam.\n",
      "Ratio: 0.010518351525091112\n",
      "You email has a chance of 98.95911326011877% of being a spam.\n",
      "Ratio: 0.006173827381185215\n",
      "You email has a chance of 99.38640548847765% of being a spam.\n",
      "Sample result: [1, 1, 1, 1, 0, 1, 0, 0, 0, 0, 0, 0, 0, 0, 0, 0, 0, 0, 1, 1]\n",
      "Test result: [1, 0, 1, 1, 1, 1, 0, 0, 0, 0, 1, 0, 0, 0, 0, 0, 1, 0, 1, 1]\n"
     ]
    }
   ],
   "source": [
    "start = 1000\n",
    "stop = 1020\n",
    "sample = fraud_email['Text'].tolist()[start:stop]\n",
    "sample_result = fraud_email['Class'].tolist()[start:stop]\n",
    "test_result = list()\n",
    "for mail in sample:\n",
    "    test_result.append(main(str(mail)))\n",
    "print(\"Sample result: \" + str(sample_result))\n",
    "print(\"Test result: \" + str(test_result))"
   ]
  },
  {
   "cell_type": "markdown",
   "metadata": {},
   "source": [
    "It's not enough to conclude the accuracy based on this small test. But it's quite optimistic, right?"
   ]
  },
  {
   "cell_type": "markdown",
   "metadata": {},
   "source": [
    "This is the end. Thank you for reading my notebook. I also want to thank my friends who propose ways to reduce overfitting and solve other problems in this project."
   ]
  },
  {
   "cell_type": "code",
   "execution_count": null,
   "metadata": {},
   "outputs": [],
   "source": []
  }
 ],
 "metadata": {
  "interpreter": {
   "hash": "11938c6bc6919ae2720b4d5011047913343b08a43b18698fd82dedb0d4417594"
  },
  "kernelspec": {
   "display_name": "Python 3.9.11 64-bit",
   "language": "python",
   "name": "python3"
  },
  "language_info": {
   "codemirror_mode": {
    "name": "ipython",
    "version": 3
   },
   "file_extension": ".py",
   "mimetype": "text/x-python",
   "name": "python",
   "nbconvert_exporter": "python",
   "pygments_lexer": "ipython3",
   "version": "3.9.11"
  }
 },
 "nbformat": 4,
 "nbformat_minor": 4
}
